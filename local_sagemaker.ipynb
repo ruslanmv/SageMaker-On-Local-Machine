{
 "cells": [
  {
   "cell_type": "markdown",
   "metadata": {},
   "source": [
    "### Local SageMaker"
   ]
  },
  {
   "cell_type": "code",
   "execution_count": 7,
   "metadata": {},
   "outputs": [],
   "source": [
    "import tensorflow\n",
    "import boto3\n",
    "import sagemaker\n",
    "import keras\n",
    "import os\n",
    "import numpy as np\n",
    "from keras.datasets import fashion_mnist"
   ]
  },
  {
   "cell_type": "markdown",
   "metadata": {},
   "source": [
    "We check the versions"
   ]
  },
  {
   "cell_type": "code",
   "execution_count": 2,
   "metadata": {
    "scrolled": true
   },
   "outputs": [
    {
     "name": "stdout",
     "output_type": "stream",
     "text": [
      "2.2.0\n"
     ]
    }
   ],
   "source": [
    "print(tensorflow.__version__)"
   ]
  },
  {
   "cell_type": "code",
   "execution_count": 4,
   "metadata": {},
   "outputs": [
    {
     "name": "stdout",
     "output_type": "stream",
     "text": [
      "2.3.1\n"
     ]
    }
   ],
   "source": [
    "print(keras.__version__)"
   ]
  },
  {
   "cell_type": "code",
   "execution_count": 5,
   "metadata": {},
   "outputs": [],
   "source": [
    "sess = sagemaker.Session()  # Use the AWS region configured with the AWS CLI\n",
    "# sess = sagemaker.Session(boto3.session.Session(region_name='eu-west-1'))\n",
    "\n",
    "# This doesn't work on your local machine because it doesn't have an IAM role :)\n",
    "# role = sagemaker.get_execution_role()\n",
    "\n",
    "# This is the SageMaker role you're already using, it will work just fine\n",
    "role = 'YOUR_ROLE'\n"
   ]
  },
  {
   "cell_type": "code",
   "execution_count": 8,
   "metadata": {},
   "outputs": [
    {
     "name": "stdout",
     "output_type": "stream",
     "text": [
      "Downloading data from http://fashion-mnist.s3-website.eu-central-1.amazonaws.com/train-labels-idx1-ubyte.gz\n",
      "32768/29515 [=================================] - 0s 1us/step\n",
      "Downloading data from http://fashion-mnist.s3-website.eu-central-1.amazonaws.com/train-images-idx3-ubyte.gz\n",
      "26427392/26421880 [==============================] - 3s 0us/step\n",
      "Downloading data from http://fashion-mnist.s3-website.eu-central-1.amazonaws.com/t10k-labels-idx1-ubyte.gz\n",
      "8192/5148 [===============================================] - 0s 0us/step\n",
      "Downloading data from http://fashion-mnist.s3-website.eu-central-1.amazonaws.com/t10k-images-idx3-ubyte.gz\n",
      "4423680/4422102 [==============================] - 1s 0us/step\n"
     ]
    }
   ],
   "source": [
    "(x_train, y_train), (x_val, y_val) = fashion_mnist.load_data()\n"
   ]
  },
  {
   "cell_type": "code",
   "execution_count": 9,
   "metadata": {},
   "outputs": [],
   "source": [
    "os.makedirs(\"./data\", exist_ok = True)\n",
    "np.savez('./data/training', image=x_train, label=y_train)\n",
    "np.savez('./data/validation', image=x_val, label=y_val)"
   ]
  },
  {
   "cell_type": "code",
   "execution_count": 10,
   "metadata": {},
   "outputs": [],
   "source": [
    "# Train on local data. S3 URIs would work too.\n",
    "training_input_path   = 'file://data/training.npz'\n",
    "validation_input_path = 'file://data/validation.npz'\n",
    "# Store model locally. A S3 URI would work too.\n",
    "output_path           = 'file:///tmp/model/'"
   ]
  },
  {
   "cell_type": "markdown",
   "metadata": {},
   "source": [
    "The notebook supports three different versions of the Keras script\n",
    "* mnist_keras_tf.py: Keras in symbolic mode with TensorFlow 1.15\n",
    "* mnist_keras_tf20_compat.py: Keras in symbolic mode with TensorFlow 2.0 \n",
    "* mnist_keras_tf20_eager.py: Keras in eager mode with TensorFlow 2.0\n",
    "\n",
    "You only need to set the correct TensorFlow version when configuring the TensorFlow estimator.\n"
   ]
  },
  {
   "cell_type": "code",
   "execution_count": 15,
   "metadata": {},
   "outputs": [
    {
     "name": "stderr",
     "output_type": "stream",
     "text": [
      "Windows Support for Local Mode is Experimental\n"
     ]
    }
   ],
   "source": [
    "from sagemaker.tensorflow import TensorFlow\n",
    "tf_estimator = TensorFlow(entry_point='mnist_keras_tf20_compat.py',\n",
    "                          role=role,\n",
    "                          instance_count=1, \n",
    "                          instance_type='local',   # Train on the local CPU ('local_gpu' if it has a GPU)\n",
    "                          framework_version='2.0', \n",
    "                          py_version='py3',\n",
    "                          hyperparameters={'epochs': 1},\n",
    "                          output_path=output_path\n",
    "                         )"
   ]
  },
  {
   "cell_type": "code",
   "execution_count": 16,
   "metadata": {},
   "outputs": [
    {
     "name": "stdout",
     "output_type": "stream",
     "text": [
      "Creating network \"sagemaker-local\" with the default driver\n",
      "Creating 1nm7dhp11g-algo-1-5jdu7 ... \n",
      "Creating 1nm7dhp11g-algo-1-5jdu7 ... done\n",
      "Docker Compose is now in the Docker CLI, try `docker compose up`\n",
      "\n",
      "Attaching to 1nm7dhp11g-algo-1-5jdu7\n",
      "\u001b[36m1nm7dhp11g-algo-1-5jdu7 |\u001b[0m 2021-06-26 09:55:54,141 sagemaker-training-toolkit INFO     Imported framework sagemaker_tensorflow_container.training\n",
      "\u001b[36m1nm7dhp11g-algo-1-5jdu7 |\u001b[0m 2021-06-26 09:55:54,151 sagemaker-training-toolkit INFO     No GPUs detected (normal if no gpus installed)\n",
      "\u001b[36m1nm7dhp11g-algo-1-5jdu7 |\u001b[0m 2021-06-26 09:55:54,200 botocore.credentials INFO     Found credentials in environment variables.\n",
      "\u001b[36m1nm7dhp11g-algo-1-5jdu7 |\u001b[0m 2021-06-26 09:55:54,512 sagemaker-training-toolkit INFO     No GPUs detected (normal if no gpus installed)\n",
      "\u001b[36m1nm7dhp11g-algo-1-5jdu7 |\u001b[0m 2021-06-26 09:55:54,538 sagemaker-training-toolkit INFO     No GPUs detected (normal if no gpus installed)\n",
      "\u001b[36m1nm7dhp11g-algo-1-5jdu7 |\u001b[0m 2021-06-26 09:55:54,566 sagemaker-training-toolkit INFO     No GPUs detected (normal if no gpus installed)\n",
      "\u001b[36m1nm7dhp11g-algo-1-5jdu7 |\u001b[0m 2021-06-26 09:55:54,590 sagemaker-training-toolkit INFO     Invoking user script\n",
      "\u001b[36m1nm7dhp11g-algo-1-5jdu7 |\u001b[0m \n",
      "\u001b[36m1nm7dhp11g-algo-1-5jdu7 |\u001b[0m Training Env:\n",
      "\u001b[36m1nm7dhp11g-algo-1-5jdu7 |\u001b[0m \n",
      "\u001b[36m1nm7dhp11g-algo-1-5jdu7 |\u001b[0m {\n",
      "\u001b[36m1nm7dhp11g-algo-1-5jdu7 |\u001b[0m     \"additional_framework_parameters\": {},\n",
      "\u001b[36m1nm7dhp11g-algo-1-5jdu7 |\u001b[0m     \"channel_input_dirs\": {\n",
      "\u001b[36m1nm7dhp11g-algo-1-5jdu7 |\u001b[0m         \"training\": \"/opt/ml/input/data/training\",\n",
      "\u001b[36m1nm7dhp11g-algo-1-5jdu7 |\u001b[0m         \"validation\": \"/opt/ml/input/data/validation\"\n",
      "\u001b[36m1nm7dhp11g-algo-1-5jdu7 |\u001b[0m     },\n",
      "\u001b[36m1nm7dhp11g-algo-1-5jdu7 |\u001b[0m     \"current_host\": \"algo-1-5jdu7\",\n",
      "\u001b[36m1nm7dhp11g-algo-1-5jdu7 |\u001b[0m     \"framework_module\": \"sagemaker_tensorflow_container.training:main\",\n",
      "\u001b[36m1nm7dhp11g-algo-1-5jdu7 |\u001b[0m     \"hosts\": [\n",
      "\u001b[36m1nm7dhp11g-algo-1-5jdu7 |\u001b[0m         \"algo-1-5jdu7\"\n",
      "\u001b[36m1nm7dhp11g-algo-1-5jdu7 |\u001b[0m     ],\n",
      "\u001b[36m1nm7dhp11g-algo-1-5jdu7 |\u001b[0m     \"hyperparameters\": {\n",
      "\u001b[36m1nm7dhp11g-algo-1-5jdu7 |\u001b[0m         \"epochs\": 1,\n",
      "\u001b[36m1nm7dhp11g-algo-1-5jdu7 |\u001b[0m         \"model_dir\": \"file:/tmp/model/tensorflow-training-2021-06-26-09-52-18-014/model\"\n",
      "\u001b[36m1nm7dhp11g-algo-1-5jdu7 |\u001b[0m     },\n",
      "\u001b[36m1nm7dhp11g-algo-1-5jdu7 |\u001b[0m     \"input_config_dir\": \"/opt/ml/input/config\",\n",
      "\u001b[36m1nm7dhp11g-algo-1-5jdu7 |\u001b[0m     \"input_data_config\": {\n",
      "\u001b[36m1nm7dhp11g-algo-1-5jdu7 |\u001b[0m         \"training\": {\n",
      "\u001b[36m1nm7dhp11g-algo-1-5jdu7 |\u001b[0m             \"TrainingInputMode\": \"File\"\n",
      "\u001b[36m1nm7dhp11g-algo-1-5jdu7 |\u001b[0m         },\n",
      "\u001b[36m1nm7dhp11g-algo-1-5jdu7 |\u001b[0m         \"validation\": {\n",
      "\u001b[36m1nm7dhp11g-algo-1-5jdu7 |\u001b[0m             \"TrainingInputMode\": \"File\"\n",
      "\u001b[36m1nm7dhp11g-algo-1-5jdu7 |\u001b[0m         }\n",
      "\u001b[36m1nm7dhp11g-algo-1-5jdu7 |\u001b[0m     },\n",
      "\u001b[36m1nm7dhp11g-algo-1-5jdu7 |\u001b[0m     \"input_dir\": \"/opt/ml/input\",\n",
      "\u001b[36m1nm7dhp11g-algo-1-5jdu7 |\u001b[0m     \"is_master\": true,\n",
      "\u001b[36m1nm7dhp11g-algo-1-5jdu7 |\u001b[0m     \"job_name\": \"tensorflow-training-2021-06-26-09-52-18-014\",\n",
      "\u001b[36m1nm7dhp11g-algo-1-5jdu7 |\u001b[0m     \"log_level\": 20,\n",
      "\u001b[36m1nm7dhp11g-algo-1-5jdu7 |\u001b[0m     \"master_hostname\": \"algo-1-5jdu7\",\n",
      "\u001b[36m1nm7dhp11g-algo-1-5jdu7 |\u001b[0m     \"model_dir\": \"/opt/ml/model\",\n",
      "\u001b[36m1nm7dhp11g-algo-1-5jdu7 |\u001b[0m     \"module_dir\": \"s3://sagemaker-eu-central-1-109230160835/tensorflow-training-2021-06-26-09-52-18-014/source/sourcedir.tar.gz\",\n",
      "\u001b[36m1nm7dhp11g-algo-1-5jdu7 |\u001b[0m     \"module_name\": \"mnist_keras_tf20_compat\",\n",
      "\u001b[36m1nm7dhp11g-algo-1-5jdu7 |\u001b[0m     \"network_interface_name\": \"eth0\",\n",
      "\u001b[36m1nm7dhp11g-algo-1-5jdu7 |\u001b[0m     \"num_cpus\": 8,\n",
      "\u001b[36m1nm7dhp11g-algo-1-5jdu7 |\u001b[0m     \"num_gpus\": 0,\n",
      "\u001b[36m1nm7dhp11g-algo-1-5jdu7 |\u001b[0m     \"output_data_dir\": \"/opt/ml/output/data\",\n",
      "\u001b[36m1nm7dhp11g-algo-1-5jdu7 |\u001b[0m     \"output_dir\": \"/opt/ml/output\",\n",
      "\u001b[36m1nm7dhp11g-algo-1-5jdu7 |\u001b[0m     \"output_intermediate_dir\": \"/opt/ml/output/intermediate\",\n",
      "\u001b[36m1nm7dhp11g-algo-1-5jdu7 |\u001b[0m     \"resource_config\": {\n",
      "\u001b[36m1nm7dhp11g-algo-1-5jdu7 |\u001b[0m         \"current_host\": \"algo-1-5jdu7\",\n",
      "\u001b[36m1nm7dhp11g-algo-1-5jdu7 |\u001b[0m         \"hosts\": [\n",
      "\u001b[36m1nm7dhp11g-algo-1-5jdu7 |\u001b[0m             \"algo-1-5jdu7\"\n",
      "\u001b[36m1nm7dhp11g-algo-1-5jdu7 |\u001b[0m         ]\n",
      "\u001b[36m1nm7dhp11g-algo-1-5jdu7 |\u001b[0m     },\n",
      "\u001b[36m1nm7dhp11g-algo-1-5jdu7 |\u001b[0m     \"user_entry_point\": \"mnist_keras_tf20_compat.py\"\n",
      "\u001b[36m1nm7dhp11g-algo-1-5jdu7 |\u001b[0m }\n",
      "\u001b[36m1nm7dhp11g-algo-1-5jdu7 |\u001b[0m \n",
      "\u001b[36m1nm7dhp11g-algo-1-5jdu7 |\u001b[0m Environment variables:\n",
      "\u001b[36m1nm7dhp11g-algo-1-5jdu7 |\u001b[0m \n",
      "\u001b[36m1nm7dhp11g-algo-1-5jdu7 |\u001b[0m SM_HOSTS=[\"algo-1-5jdu7\"]\n",
      "\u001b[36m1nm7dhp11g-algo-1-5jdu7 |\u001b[0m SM_NETWORK_INTERFACE_NAME=eth0\n",
      "\u001b[36m1nm7dhp11g-algo-1-5jdu7 |\u001b[0m SM_HPS={\"epochs\":1,\"model_dir\":\"file:/tmp/model/tensorflow-training-2021-06-26-09-52-18-014/model\"}\n",
      "\u001b[36m1nm7dhp11g-algo-1-5jdu7 |\u001b[0m SM_USER_ENTRY_POINT=mnist_keras_tf20_compat.py\n",
      "\u001b[36m1nm7dhp11g-algo-1-5jdu7 |\u001b[0m SM_FRAMEWORK_PARAMS={}\n",
      "\u001b[36m1nm7dhp11g-algo-1-5jdu7 |\u001b[0m SM_RESOURCE_CONFIG={\"current_host\":\"algo-1-5jdu7\",\"hosts\":[\"algo-1-5jdu7\"]}\n",
      "\u001b[36m1nm7dhp11g-algo-1-5jdu7 |\u001b[0m SM_INPUT_DATA_CONFIG={\"training\":{\"TrainingInputMode\":\"File\"},\"validation\":{\"TrainingInputMode\":\"File\"}}\n",
      "\u001b[36m1nm7dhp11g-algo-1-5jdu7 |\u001b[0m SM_OUTPUT_DATA_DIR=/opt/ml/output/data\n",
      "\u001b[36m1nm7dhp11g-algo-1-5jdu7 |\u001b[0m SM_CHANNELS=[\"training\",\"validation\"]\n",
      "\u001b[36m1nm7dhp11g-algo-1-5jdu7 |\u001b[0m SM_CURRENT_HOST=algo-1-5jdu7\n",
      "\u001b[36m1nm7dhp11g-algo-1-5jdu7 |\u001b[0m SM_MODULE_NAME=mnist_keras_tf20_compat\n",
      "\u001b[36m1nm7dhp11g-algo-1-5jdu7 |\u001b[0m SM_LOG_LEVEL=20\n",
      "\u001b[36m1nm7dhp11g-algo-1-5jdu7 |\u001b[0m SM_FRAMEWORK_MODULE=sagemaker_tensorflow_container.training:main\n",
      "\u001b[36m1nm7dhp11g-algo-1-5jdu7 |\u001b[0m SM_INPUT_DIR=/opt/ml/input\n",
      "\u001b[36m1nm7dhp11g-algo-1-5jdu7 |\u001b[0m SM_INPUT_CONFIG_DIR=/opt/ml/input/config\n",
      "\u001b[36m1nm7dhp11g-algo-1-5jdu7 |\u001b[0m SM_OUTPUT_DIR=/opt/ml/output\n",
      "\u001b[36m1nm7dhp11g-algo-1-5jdu7 |\u001b[0m SM_NUM_CPUS=8\n",
      "\u001b[36m1nm7dhp11g-algo-1-5jdu7 |\u001b[0m SM_NUM_GPUS=0\n",
      "\u001b[36m1nm7dhp11g-algo-1-5jdu7 |\u001b[0m SM_MODEL_DIR=/opt/ml/model\n",
      "\u001b[36m1nm7dhp11g-algo-1-5jdu7 |\u001b[0m SM_MODULE_DIR=s3://sagemaker-eu-central-1-109230160835/tensorflow-training-2021-06-26-09-52-18-014/source/sourcedir.tar.gz\n",
      "\u001b[36m1nm7dhp11g-algo-1-5jdu7 |\u001b[0m SM_TRAINING_ENV={\"additional_framework_parameters\":{},\"channel_input_dirs\":{\"training\":\"/opt/ml/input/data/training\",\"validation\":\"/opt/ml/input/data/validation\"},\"current_host\":\"algo-1-5jdu7\",\"framework_module\":\"sagemaker_tensorflow_container.training:main\",\"hosts\":[\"algo-1-5jdu7\"],\"hyperparameters\":{\"epochs\":1,\"model_dir\":\"file:/tmp/model/tensorflow-training-2021-06-26-09-52-18-014/model\"},\"input_config_dir\":\"/opt/ml/input/config\",\"input_data_config\":{\"training\":{\"TrainingInputMode\":\"File\"},\"validation\":{\"TrainingInputMode\":\"File\"}},\"input_dir\":\"/opt/ml/input\",\"is_master\":true,\"job_name\":\"tensorflow-training-2021-06-26-09-52-18-014\",\"log_level\":20,\"master_hostname\":\"algo-1-5jdu7\",\"model_dir\":\"/opt/ml/model\",\"module_dir\":\"s3://sagemaker-eu-central-1-109230160835/tensorflow-training-2021-06-26-09-52-18-014/source/sourcedir.tar.gz\",\"module_name\":\"mnist_keras_tf20_compat\",\"network_interface_name\":\"eth0\",\"num_cpus\":8,\"num_gpus\":0,\"output_data_dir\":\"/opt/ml/output/data\",\"output_dir\":\"/opt/ml/output\",\"output_intermediate_dir\":\"/opt/ml/output/intermediate\",\"resource_config\":{\"current_host\":\"algo-1-5jdu7\",\"hosts\":[\"algo-1-5jdu7\"]},\"user_entry_point\":\"mnist_keras_tf20_compat.py\"}\n",
      "\u001b[36m1nm7dhp11g-algo-1-5jdu7 |\u001b[0m SM_USER_ARGS=[\"--epochs\",\"1\",\"--model_dir\",\"file:/tmp/model/tensorflow-training-2021-06-26-09-52-18-014/model\"]\n",
      "\u001b[36m1nm7dhp11g-algo-1-5jdu7 |\u001b[0m SM_OUTPUT_INTERMEDIATE_DIR=/opt/ml/output/intermediate\n",
      "\u001b[36m1nm7dhp11g-algo-1-5jdu7 |\u001b[0m SM_CHANNEL_TRAINING=/opt/ml/input/data/training\n",
      "\u001b[36m1nm7dhp11g-algo-1-5jdu7 |\u001b[0m SM_CHANNEL_VALIDATION=/opt/ml/input/data/validation\n",
      "\u001b[36m1nm7dhp11g-algo-1-5jdu7 |\u001b[0m SM_HP_EPOCHS=1\n",
      "\u001b[36m1nm7dhp11g-algo-1-5jdu7 |\u001b[0m SM_HP_MODEL_DIR=file:/tmp/model/tensorflow-training-2021-06-26-09-52-18-014/model\n",
      "\u001b[36m1nm7dhp11g-algo-1-5jdu7 |\u001b[0m PYTHONPATH=/opt/ml/code:/usr/local/bin:/usr/local/lib/python36.zip:/usr/local/lib/python3.6:/usr/local/lib/python3.6/lib-dynload:/usr/local/lib/python3.6/site-packages\n",
      "\u001b[36m1nm7dhp11g-algo-1-5jdu7 |\u001b[0m \n",
      "\u001b[36m1nm7dhp11g-algo-1-5jdu7 |\u001b[0m Invoking script with the following command:\n",
      "\u001b[36m1nm7dhp11g-algo-1-5jdu7 |\u001b[0m \n",
      "\u001b[36m1nm7dhp11g-algo-1-5jdu7 |\u001b[0m /usr/local/bin/python3.6 mnist_keras_tf20_compat.py --epochs 1 --model_dir file:/tmp/model/tensorflow-training-2021-06-26-09-52-18-014/model\n",
      "\u001b[36m1nm7dhp11g-algo-1-5jdu7 |\u001b[0m \n",
      "\u001b[36m1nm7dhp11g-algo-1-5jdu7 |\u001b[0m \n"
     ]
    },
    {
     "name": "stdout",
     "output_type": "stream",
     "text": [
      "\u001b[36m1nm7dhp11g-algo-1-5jdu7 |\u001b[0m Collecting keras-metrics\n",
      "\u001b[36m1nm7dhp11g-algo-1-5jdu7 |\u001b[0m   Downloading keras_metrics-1.1.0-py2.py3-none-any.whl (5.6 kB)\n",
      "\u001b[36m1nm7dhp11g-algo-1-5jdu7 |\u001b[0m Requirement already satisfied: Keras>=2.1.5 in /usr/local/lib/python3.6/site-packages (from keras-metrics) (2.3.1)\n",
      "\u001b[36m1nm7dhp11g-algo-1-5jdu7 |\u001b[0m Requirement already satisfied: h5py in /usr/local/lib/python3.6/site-packages (from Keras>=2.1.5->keras-metrics) (2.10.0)\n",
      "\u001b[36m1nm7dhp11g-algo-1-5jdu7 |\u001b[0m Requirement already satisfied: pyyaml in /usr/local/lib/python3.6/site-packages (from Keras>=2.1.5->keras-metrics) (5.4.1)\n",
      "\u001b[36m1nm7dhp11g-algo-1-5jdu7 |\u001b[0m Requirement already satisfied: scipy>=0.14 in /usr/local/lib/python3.6/site-packages (from Keras>=2.1.5->keras-metrics) (1.2.2)\n",
      "\u001b[36m1nm7dhp11g-algo-1-5jdu7 |\u001b[0m Requirement already satisfied: keras-applications>=1.0.6 in /usr/local/lib/python3.6/site-packages (from Keras>=2.1.5->keras-metrics) (1.0.8)\n",
      "\u001b[36m1nm7dhp11g-algo-1-5jdu7 |\u001b[0m Requirement already satisfied: six>=1.9.0 in /usr/local/lib/python3.6/site-packages (from Keras>=2.1.5->keras-metrics) (1.15.0)\n",
      "\u001b[36m1nm7dhp11g-algo-1-5jdu7 |\u001b[0m Requirement already satisfied: numpy>=1.9.1 in /usr/local/lib/python3.6/site-packages (from Keras>=2.1.5->keras-metrics) (1.18.5)\n",
      "\u001b[36m1nm7dhp11g-algo-1-5jdu7 |\u001b[0m Requirement already satisfied: keras-preprocessing>=1.0.5 in /usr/local/lib/python3.6/site-packages (from Keras>=2.1.5->keras-metrics) (1.1.0)\n",
      "\u001b[36m1nm7dhp11g-algo-1-5jdu7 |\u001b[0m Installing collected packages: keras-metrics\n",
      "\u001b[36m1nm7dhp11g-algo-1-5jdu7 |\u001b[0m Successfully installed keras-metrics-1.1.0\n",
      "\u001b[36m1nm7dhp11g-algo-1-5jdu7 |\u001b[0m x_train shape: (60000, 28, 28, 1)\n",
      "\u001b[36m1nm7dhp11g-algo-1-5jdu7 |\u001b[0m 60000 train samples\n",
      "\u001b[36m1nm7dhp11g-algo-1-5jdu7 |\u001b[0m 10000 test samples\n",
      "\u001b[36m1nm7dhp11g-algo-1-5jdu7 |\u001b[0m Model: \"sequential\"\n",
      "\u001b[36m1nm7dhp11g-algo-1-5jdu7 |\u001b[0m _________________________________________________________________\n",
      "\u001b[36m1nm7dhp11g-algo-1-5jdu7 |\u001b[0m Layer (type)                 Output Shape              Param #   \n",
      "\u001b[36m1nm7dhp11g-algo-1-5jdu7 |\u001b[0m =================================================================\n",
      "\u001b[36m1nm7dhp11g-algo-1-5jdu7 |\u001b[0m conv2d (Conv2D)              (None, 28, 28, 64)        640       \n",
      "\u001b[36m1nm7dhp11g-algo-1-5jdu7 |\u001b[0m _________________________________________________________________\n",
      "\u001b[36m1nm7dhp11g-algo-1-5jdu7 |\u001b[0m batch_normalization (BatchNo (None, 28, 28, 64)        256       \n",
      "\u001b[36m1nm7dhp11g-algo-1-5jdu7 |\u001b[0m _________________________________________________________________\n",
      "\u001b[36m1nm7dhp11g-algo-1-5jdu7 |\u001b[0m activation (Activation)      (None, 28, 28, 64)        0         \n",
      "\u001b[36m1nm7dhp11g-algo-1-5jdu7 |\u001b[0m _________________________________________________________________\n",
      "\u001b[36m1nm7dhp11g-algo-1-5jdu7 |\u001b[0m max_pooling2d (MaxPooling2D) (None, 14, 14, 64)        0         \n",
      "\u001b[36m1nm7dhp11g-algo-1-5jdu7 |\u001b[0m _________________________________________________________________\n",
      "\u001b[36m1nm7dhp11g-algo-1-5jdu7 |\u001b[0m conv2d_1 (Conv2D)            (None, 12, 12, 128)       73856     \n",
      "\u001b[36m1nm7dhp11g-algo-1-5jdu7 |\u001b[0m _________________________________________________________________\n",
      "\u001b[36m1nm7dhp11g-algo-1-5jdu7 |\u001b[0m batch_normalization_1 (Batch (None, 12, 12, 128)       512       \n",
      "\u001b[36m1nm7dhp11g-algo-1-5jdu7 |\u001b[0m _________________________________________________________________\n",
      "\u001b[36m1nm7dhp11g-algo-1-5jdu7 |\u001b[0m activation_1 (Activation)    (None, 12, 12, 128)       0         \n",
      "\u001b[36m1nm7dhp11g-algo-1-5jdu7 |\u001b[0m _________________________________________________________________\n",
      "\u001b[36m1nm7dhp11g-algo-1-5jdu7 |\u001b[0m max_pooling2d_1 (MaxPooling2 (None, 6, 6, 128)         0         \n",
      "\u001b[36m1nm7dhp11g-algo-1-5jdu7 |\u001b[0m _________________________________________________________________\n",
      "\u001b[36m1nm7dhp11g-algo-1-5jdu7 |\u001b[0m flatten (Flatten)            (None, 4608)              0         \n",
      "\u001b[36m1nm7dhp11g-algo-1-5jdu7 |\u001b[0m _________________________________________________________________\n",
      "\u001b[36m1nm7dhp11g-algo-1-5jdu7 |\u001b[0m dense (Dense)                (None, 512)               2359808   \n",
      "\u001b[36m1nm7dhp11g-algo-1-5jdu7 |\u001b[0m _________________________________________________________________\n",
      "\u001b[36m1nm7dhp11g-algo-1-5jdu7 |\u001b[0m activation_2 (Activation)    (None, 512)               0         \n",
      "\u001b[36m1nm7dhp11g-algo-1-5jdu7 |\u001b[0m _________________________________________________________________\n",
      "\u001b[36m1nm7dhp11g-algo-1-5jdu7 |\u001b[0m dropout (Dropout)            (None, 512)               0         \n",
      "\u001b[36m1nm7dhp11g-algo-1-5jdu7 |\u001b[0m _________________________________________________________________\n",
      "\u001b[36m1nm7dhp11g-algo-1-5jdu7 |\u001b[0m dense_1 (Dense)              (None, 10)                5130      \n",
      "\u001b[36m1nm7dhp11g-algo-1-5jdu7 |\u001b[0m =================================================================\n",
      "\u001b[36m1nm7dhp11g-algo-1-5jdu7 |\u001b[0m Total params: 2,440,202\n",
      "\u001b[36m1nm7dhp11g-algo-1-5jdu7 |\u001b[0m Trainable params: 2,439,818\n",
      "\u001b[36m1nm7dhp11g-algo-1-5jdu7 |\u001b[0m Non-trainable params: 384\n",
      "\u001b[36m1nm7dhp11g-algo-1-5jdu7 |\u001b[0m _________________________________________________________________\n",
      "\u001b[36m1nm7dhp11g-algo-1-5jdu7 |\u001b[0m None\n",
      "\u001b[36m1nm7dhp11g-algo-1-5jdu7 |\u001b[0m tracking <tf.Variable 'Variable:0' shape=() dtype=int32> tp\n",
      "\u001b[36m1nm7dhp11g-algo-1-5jdu7 |\u001b[0m tracking <tf.Variable 'Variable_1:0' shape=() dtype=int32> fp\n",
      "\u001b[36m1nm7dhp11g-algo-1-5jdu7 |\u001b[0m tracking <tf.Variable 'Variable_2:0' shape=() dtype=int32> tp\n",
      "\u001b[36m1nm7dhp11g-algo-1-5jdu7 |\u001b[0m tracking <tf.Variable 'Variable_3:0' shape=() dtype=int32> fn\n",
      "\u001b[36m1nm7dhp11g-algo-1-5jdu7 |\u001b[0m tracking <tf.Variable 'Variable_4:0' shape=() dtype=int32> tp\n",
      "\u001b[36m1nm7dhp11g-algo-1-5jdu7 |\u001b[0m tracking <tf.Variable 'Variable_5:0' shape=() dtype=int32> fp\n",
      "\u001b[36m1nm7dhp11g-algo-1-5jdu7 |\u001b[0m tracking <tf.Variable 'Variable_6:0' shape=() dtype=int32> tp\n",
      "\u001b[36m1nm7dhp11g-algo-1-5jdu7 |\u001b[0m tracking <tf.Variable 'Variable_7:0' shape=() dtype=int32> fn\n",
      "\u001b[36m1nm7dhp11g-algo-1-5jdu7 |\u001b[0m Train on 60000 samples, validate on 10000 samples\n",
      "60000/60000 [==============================] - 93s 2ms/sample - loss: 0.4305 - accuracy: 0.8477 - precision: 0.8202 - recall: 0.7775 - f1_score: 0.7883 - val_loss: 0.4769 - val_accuracy: 0.8136 - val_precision: 0.6944 - val_recall: 0.8786 - val_f1_score: 0.7702\n",
      "\u001b[36m1nm7dhp11g-algo-1-5jdu7 |\u001b[0m Validation loss    : 0.47687487812042234\n",
      "\u001b[36m1nm7dhp11g-algo-1-5jdu7 |\u001b[0m Validation accuracy: 0.8136\n",
      "\u001b[36m1nm7dhp11g-algo-1-5jdu7 |\u001b[0m Using TensorFlow backend.\n",
      "\u001b[36m1nm7dhp11g-algo-1-5jdu7 |\u001b[0m WARNING: You are using pip version 21.0.1; however, version 21.1.3 is available.\n",
      "\u001b[36m1nm7dhp11g-algo-1-5jdu7 |\u001b[0m You should consider upgrading via the '/usr/local/bin/python3.6 -m pip install --upgrade pip' command.\n",
      "\u001b[36m1nm7dhp11g-algo-1-5jdu7 |\u001b[0m WARNING:tensorflow:From /usr/local/lib/python3.6/site-packages/tensorflow_core/python/ops/resource_variable_ops.py:1630: calling BaseResourceVariable.__init__ (from tensorflow.python.ops.resource_variable_ops) with constraint is deprecated and will be removed in a future version.\n",
      "\u001b[36m1nm7dhp11g-algo-1-5jdu7 |\u001b[0m Instructions for updating:\n",
      "\u001b[36m1nm7dhp11g-algo-1-5jdu7 |\u001b[0m If using Keras pass *_constraint arguments to layers.\n",
      "\u001b[36m1nm7dhp11g-algo-1-5jdu7 |\u001b[0m WARNING:tensorflow:From mnist_keras_tf20_compat.py:153: The name tf.keras.backend.get_session is deprecated. Please use tf.compat.v1.keras.backend.get_session instead.\n",
      "\u001b[36m1nm7dhp11g-algo-1-5jdu7 |\u001b[0m \n",
      "\u001b[36m1nm7dhp11g-algo-1-5jdu7 |\u001b[0m WARNING:tensorflow:From mnist_keras_tf20_compat.py:153: The name tf.keras.backend.get_session is deprecated. Please use tf.compat.v1.keras.backend.get_session instead.\n",
      "\u001b[36m1nm7dhp11g-algo-1-5jdu7 |\u001b[0m \n",
      "\u001b[36m1nm7dhp11g-algo-1-5jdu7 |\u001b[0m WARNING:tensorflow:From mnist_keras_tf20_compat.py:158: simple_save (from tensorflow.python.saved_model.simple_save) is deprecated and will be removed in a future version.\n",
      "\u001b[36m1nm7dhp11g-algo-1-5jdu7 |\u001b[0m Instructions for updating:\n",
      "\u001b[36m1nm7dhp11g-algo-1-5jdu7 |\u001b[0m This function will only be available through the v1 compatibility library as tf.compat.v1.saved_model.simple_save.\n",
      "\u001b[36m1nm7dhp11g-algo-1-5jdu7 |\u001b[0m WARNING:tensorflow:From mnist_keras_tf20_compat.py:158: simple_save (from tensorflow.python.saved_model.simple_save) is deprecated and will be removed in a future version.\n",
      "\u001b[36m1nm7dhp11g-algo-1-5jdu7 |\u001b[0m Instructions for updating:\n",
      "\u001b[36m1nm7dhp11g-algo-1-5jdu7 |\u001b[0m This function will only be available through the v1 compatibility library as tf.compat.v1.saved_model.simple_save.\n",
      "\u001b[36m1nm7dhp11g-algo-1-5jdu7 |\u001b[0m WARNING:tensorflow:From /usr/local/lib/python3.6/site-packages/tensorflow_core/python/saved_model/signature_def_utils_impl.py:201: build_tensor_info (from tensorflow.python.saved_model.utils_impl) is deprecated and will be removed in a future version.\n",
      "\u001b[36m1nm7dhp11g-algo-1-5jdu7 |\u001b[0m Instructions for updating:\n",
      "\u001b[36m1nm7dhp11g-algo-1-5jdu7 |\u001b[0m This function will only be available through the v1 compatibility library as tf.compat.v1.saved_model.utils.build_tensor_info or tf.compat.v1.saved_model.build_tensor_info.\n",
      "\u001b[36m1nm7dhp11g-algo-1-5jdu7 |\u001b[0m WARNING:tensorflow:From /usr/local/lib/python3.6/site-packages/tensorflow_core/python/saved_model/signature_def_utils_impl.py:201: build_tensor_info (from tensorflow.python.saved_model.utils_impl) is deprecated and will be removed in a future version.\n",
      "\u001b[36m1nm7dhp11g-algo-1-5jdu7 |\u001b[0m Instructions for updating:\n",
      "\u001b[36m1nm7dhp11g-algo-1-5jdu7 |\u001b[0m This function will only be available through the v1 compatibility library as tf.compat.v1.saved_model.utils.build_tensor_info or tf.compat.v1.saved_model.build_tensor_info.\n",
      "\u001b[36m1nm7dhp11g-algo-1-5jdu7 |\u001b[0m INFO:tensorflow:Assets added to graph.\n",
      "\u001b[36m1nm7dhp11g-algo-1-5jdu7 |\u001b[0m INFO:tensorflow:Assets added to graph.\n",
      "\u001b[36m1nm7dhp11g-algo-1-5jdu7 |\u001b[0m INFO:tensorflow:No assets to write.\n",
      "\u001b[36m1nm7dhp11g-algo-1-5jdu7 |\u001b[0m INFO:tensorflow:No assets to write.\n",
      "\u001b[36m1nm7dhp11g-algo-1-5jdu7 |\u001b[0m INFO:tensorflow:SavedModel written to: /opt/ml/model/model/1/saved_model.pb\n",
      "\u001b[36m1nm7dhp11g-algo-1-5jdu7 |\u001b[0m INFO:tensorflow:SavedModel written to: /opt/ml/model/model/1/saved_model.pb\n",
      "\u001b[36m1nm7dhp11g-algo-1-5jdu7 |\u001b[0m \n",
      "\u001b[36m1nm7dhp11g-algo-1-5jdu7 |\u001b[0m 2021-06-26 09:57:38,772 sagemaker-training-toolkit INFO     Reporting training SUCCESS\n"
     ]
    },
    {
     "name": "stdout",
     "output_type": "stream",
     "text": [
      "\u001b[36m1nm7dhp11g-algo-1-5jdu7 exited with code 0\n",
      "\u001b[0mAborting on container exit...\n",
      "===== Job Complete =====\n"
     ]
    }
   ],
   "source": [
    "# Train! This will pull (once) the SageMaker CPU/GPU container for TensorFlow to your local machine.\n",
    "# Make sure that Docker is running and that docker-compose is installed\n",
    "\n",
    "tf_estimator.fit({'training': training_input_path, 'validation': validation_input_path})"
   ]
  },
  {
   "cell_type": "code",
   "execution_count": 19,
   "metadata": {},
   "outputs": [
    {
     "name": "stdout",
     "output_type": "stream",
     "text": [
      "REPOSITORY                                                            TAG           IMAGE ID       CREATED        SIZE\n",
      "763104351884.dkr.ecr.eu-central-1.amazonaws.com/tensorflow-training   2.0-cpu-py3   a19ddacd606a   3 months ago   1.97GB\n"
     ]
    }
   ],
   "source": [
    "!docker images "
   ]
  },
  {
   "cell_type": "code",
   "execution_count": 18,
   "metadata": {},
   "outputs": [
    {
     "name": "stdout",
     "output_type": "stream",
     "text": [
      "drwxrwxrwx  0 0      0           0 Jun 26 11:57 model/\n",
      "drwxrwxrwx  0 0      0           0 Jun 26 11:57 model/1/\n",
      "-rw-rw-rw-  0 0      0      240772 Jun 26 11:57 model/1/saved_model.pb\n",
      "drwxrwxrwx  0 0      0           0 Jun 26 11:57 model/1/variables/\n",
      "-rw-rw-rw-  0 0      0    19520132 Jun 26 11:57 model/1/variables/variables.data-00000-of-00001\n",
      "-rw-rw-rw-  0 0      0        1500 Jun 26 11:57 model/1/variables/variables.index\n"
     ]
    }
   ],
   "source": [
    "!tar tvfz /tmp/model/model.tar.gz"
   ]
  }
 ],
 "metadata": {
  "kernelspec": {
   "display_name": "Python (SageMaker)",
   "language": "python",
   "name": "sagemaker"
  },
  "language_info": {
   "codemirror_mode": {
    "name": "ipython",
    "version": 3
   },
   "file_extension": ".py",
   "mimetype": "text/x-python",
   "name": "python",
   "nbconvert_exporter": "python",
   "pygments_lexer": "ipython3",
   "version": "3.7.0"
  }
 },
 "nbformat": 4,
 "nbformat_minor": 2
}
